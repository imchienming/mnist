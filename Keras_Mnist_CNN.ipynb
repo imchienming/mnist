{
 "cells": [
  {
   "cell_type": "code",
   "execution_count": 3,
   "metadata": {},
   "outputs": [],
   "source": [
    "import numpy as np\n",
    "import pandas as pd\n",
    "from keras.utils import np_utils\n",
    "import tensorflow as tf\n",
    "import keras\n",
    "import matplotlib.pyplot as plt"
   ]
  },
  {
   "cell_type": "code",
   "execution_count": 4,
   "metadata": {},
   "outputs": [],
   "source": [
    "keras.datasets.mnist.load_data()\n",
    "(x_Train,y_Train),(x_Test,y_Test) =keras.datasets.mnist.load_data()"
   ]
  },
  {
   "cell_type": "code",
   "execution_count": 5,
   "metadata": {
    "scrolled": true
   },
   "outputs": [
    {
     "name": "stdout",
     "output_type": "stream",
     "text": [
      "x_train_image: (60000, 28, 28)\n",
      "y_train_label: (60000,)\n"
     ]
    }
   ],
   "source": [
    "print('x_train_image:',x_Train.shape)\n",
    "print('y_train_label:',y_Train.shape)"
   ]
  },
  {
   "cell_type": "code",
   "execution_count": 6,
   "metadata": {
    "scrolled": true
   },
   "outputs": [
    {
     "name": "stdout",
     "output_type": "stream",
     "text": [
      "x_test_image: (10000, 28, 28)\n",
      "y_test_label: (10000,)\n"
     ]
    }
   ],
   "source": [
    "print('x_test_image:',x_Test.shape)\n",
    "print('y_test_label:',y_Test.shape)"
   ]
  },
  {
   "cell_type": "code",
   "execution_count": 7,
   "metadata": {},
   "outputs": [],
   "source": [
    "def plot_image(image):               #定義函數名稱及參數\n",
    "    fig=plt.gcf()                    #先框出空的圖\n",
    "    fig.set_size_inches(5,5)         #設定該圖的大小\n",
    "    plt.imshow(image, cmap='binary') #顯示該圖之設定，2元色彩(cmap=colormap)\n",
    "    plt.show()                       #顯示圖片"
   ]
  },
  {
   "cell_type": "code",
   "execution_count": 8,
   "metadata": {},
   "outputs": [
    {
     "data": {
      "image/png": "[encoded data removed]",
      "text/plain": [
       "<Figure size 360x360 with 1 Axes>"
      ]
     },
     "metadata": {
      "needs_background": "light"
     },
     "output_type": "display_data"
    }
   ],
   "source": [
    "plot_image(x_Train[0])"
   ]
  },
  {
   "cell_type": "code",
   "execution_count": 9,
   "metadata": {},
   "outputs": [
    {
     "data": {
      "text/plain": [
       "5"
      ]
     },
     "execution_count": 9,
     "metadata": {},
     "output_type": "execute_result"
    }
   ],
   "source": [
    "y_Train[0]"
   ]
  },
  {
   "cell_type": "code",
   "execution_count": 10,
   "metadata": {},
   "outputs": [],
   "source": [
    "x_Train4D=x_Train.reshape(x_Train.shape[0],28,28,1).astype('float32')\n",
    "x_Test4D=x_Test.reshape(x_Test.shape[0],28,28,1).astype('float32')"
   ]
  },
  {
   "cell_type": "code",
   "execution_count": 11,
   "metadata": {},
   "outputs": [],
   "source": [
    "x_Train4D_normalize=x_Train4D /255\n",
    "x_Test4D_normalize=x_Test4D /255"
   ]
  },
  {
   "cell_type": "code",
   "execution_count": 12,
   "metadata": {},
   "outputs": [],
   "source": [
    "y_TrainOneHot=np_utils.to_categorical(y_Train)\n",
    "y_TestOneHot=np_utils.to_categorical(y_Test)"
   ]
  },
  {
   "cell_type": "code",
   "execution_count": 13,
   "metadata": {},
   "outputs": [
    {
     "data": {
      "text/plain": [
       "array([5, 0, 4, ..., 5, 6, 8], dtype=uint8)"
      ]
     },
     "execution_count": 13,
     "metadata": {},
     "output_type": "execute_result"
    }
   ],
   "source": [
    "y_Train"
   ]
  },
  {
   "cell_type": "code",
   "execution_count": 14,
   "metadata": {},
   "outputs": [
    {
     "data": {
      "text/plain": [
       "array([[0., 0., 0., ..., 0., 0., 0.],\n",
       "       [1., 0., 0., ..., 0., 0., 0.],\n",
       "       [0., 0., 0., ..., 0., 0., 0.],\n",
       "       ...,\n",
       "       [0., 0., 0., ..., 0., 0., 0.],\n",
       "       [0., 0., 0., ..., 0., 0., 0.],\n",
       "       [0., 0., 0., ..., 0., 1., 0.]], dtype=float32)"
      ]
     },
     "execution_count": 14,
     "metadata": {},
     "output_type": "execute_result"
    }
   ],
   "source": [
    "y_TrainOneHot"
   ]
  },
  {
   "cell_type": "code",
   "execution_count": 15,
   "metadata": {},
   "outputs": [],
   "source": [
    "from keras.models import Sequential\n",
    "from keras.layers import Dense,Dropout,Flatten,Conv2D,MaxPooling2D"
   ]
  },
  {
   "cell_type": "code",
   "execution_count": 16,
   "metadata": {},
   "outputs": [],
   "source": [
    "model=Sequential()"
   ]
  },
  {
   "cell_type": "code",
   "execution_count": 17,
   "metadata": {},
   "outputs": [],
   "source": [
    "model.add(Conv2D(filters=16, \n",
    "                kernel_size=(5,5), \n",
    "                padding='same',\n",
    "                input_shape=(28,28,1),\n",
    "                activation='relu'))"
   ]
  },
  {
   "cell_type": "code",
   "execution_count": 18,
   "metadata": {},
   "outputs": [],
   "source": [
    "model.add(Conv2D(filters=36, \n",
    "                kernel_size=(5,5), \n",
    "                padding='same',\n",
    "                activation='relu'))"
   ]
  },
  {
   "cell_type": "code",
   "execution_count": 19,
   "metadata": {},
   "outputs": [],
   "source": [
    "model.add(MaxPooling2D(pool_size=(2,2)))"
   ]
  },
  {
   "cell_type": "code",
   "execution_count": 20,
   "metadata": {},
   "outputs": [],
   "source": [
    "# model.add(Dropout(0.25))"
   ]
  },
  {
   "cell_type": "code",
   "execution_count": 21,
   "metadata": {},
   "outputs": [],
   "source": [
    "model.add(Flatten())"
   ]
  },
  {
   "cell_type": "code",
   "execution_count": 22,
   "metadata": {},
   "outputs": [],
   "source": [
    "model.add(Dense(128, activation='relu'))"
   ]
  },
  {
   "cell_type": "code",
   "execution_count": 23,
   "metadata": {},
   "outputs": [],
   "source": [
    "model.add(Dropout(0.5))"
   ]
  },
  {
   "cell_type": "code",
   "execution_count": 24,
   "metadata": {},
   "outputs": [],
   "source": [
    "model.add(Dense(10,activation='softmax'))"
   ]
  },
  {
   "cell_type": "code",
   "execution_count": 25,
   "metadata": {},
   "outputs": [],
   "source": [
    "model.compile(loss='categorical_crossentropy',optimizer='adam',metrics=['accuracy'])"
   ]
  },
  {
   "cell_type": "code",
   "execution_count": 27,
   "metadata": {},
   "outputs": [
    {
     "name": "stdout",
     "output_type": "stream",
     "text": [
      "Train on 48000 samples, validate on 12000 samples\n",
      "Epoch 1/20\n",
      " - 3s - loss: 0.0166 - acc: 0.9942 - val_loss: 0.0361 - val_acc: 0.9917\n",
      "Epoch 2/20\n",
      " - 3s - loss: 0.0160 - acc: 0.9942 - val_loss: 0.0325 - val_acc: 0.9920\n",
      "Epoch 3/20\n",
      " - 3s - loss: 0.0143 - acc: 0.9953 - val_loss: 0.0332 - val_acc: 0.9929\n",
      "Epoch 4/20\n",
      " - 3s - loss: 0.0152 - acc: 0.9950 - val_loss: 0.0343 - val_acc: 0.9920\n",
      "Epoch 5/20\n",
      " - 3s - loss: 0.0144 - acc: 0.9950 - val_loss: 0.0366 - val_acc: 0.9923\n",
      "Epoch 6/20\n",
      " - 3s - loss: 0.0137 - acc: 0.9955 - val_loss: 0.0357 - val_acc: 0.9925\n",
      "Epoch 7/20\n",
      " - 3s - loss: 0.0135 - acc: 0.9955 - val_loss: 0.0389 - val_acc: 0.9922\n",
      "Epoch 8/20\n",
      " - 3s - loss: 0.0115 - acc: 0.9960 - val_loss: 0.0336 - val_acc: 0.9925\n",
      "Epoch 9/20\n",
      " - 3s - loss: 0.0114 - acc: 0.9960 - val_loss: 0.0361 - val_acc: 0.9924\n",
      "Epoch 10/20\n",
      " - 3s - loss: 0.0114 - acc: 0.9958 - val_loss: 0.0344 - val_acc: 0.9926\n",
      "Epoch 11/20\n",
      " - 3s - loss: 0.0101 - acc: 0.9966 - val_loss: 0.0378 - val_acc: 0.9924\n",
      "Epoch 12/20\n",
      " - 3s - loss: 0.0122 - acc: 0.9959 - val_loss: 0.0342 - val_acc: 0.9930\n",
      "Epoch 13/20\n",
      " - 3s - loss: 0.0112 - acc: 0.9960 - val_loss: 0.0394 - val_acc: 0.9922\n",
      "Epoch 14/20\n",
      " - 3s - loss: 0.0114 - acc: 0.9960 - val_loss: 0.0379 - val_acc: 0.9927\n",
      "Epoch 15/20\n",
      " - 3s - loss: 0.0097 - acc: 0.9964 - val_loss: 0.0420 - val_acc: 0.9924\n",
      "Epoch 16/20\n",
      " - 3s - loss: 0.0104 - acc: 0.9964 - val_loss: 0.0457 - val_acc: 0.9910\n",
      "Epoch 17/20\n",
      " - 3s - loss: 0.0113 - acc: 0.9960 - val_loss: 0.0378 - val_acc: 0.9915\n",
      "Epoch 18/20\n",
      " - 3s - loss: 0.0103 - acc: 0.9964 - val_loss: 0.0389 - val_acc: 0.9924\n",
      "Epoch 19/20\n",
      " - 3s - loss: 0.0102 - acc: 0.9965 - val_loss: 0.0380 - val_acc: 0.9929\n",
      "Epoch 20/20\n",
      " - 3s - loss: 0.0089 - acc: 0.9971 - val_loss: 0.0377 - val_acc: 0.9932\n"
     ]
    }
   ],
   "source": [
    "train_history=model.fit(x=x_Train4D_normalize,\n",
    "                       y=y_TrainOneHot,\n",
    "                       validation_split=0.2,\n",
    "                       epochs=20,\n",
    "                       batch_size=300,\n",
    "                       verbose=2)"
   ]
  },
  {
   "cell_type": "code",
   "execution_count": 33,
   "metadata": {},
   "outputs": [
    {
     "name": "stdout",
     "output_type": "stream",
     "text": [
      "_________________________________________________________________\n",
      "Layer (type)                 Output Shape              Param #   \n",
      "=================================================================\n",
      "conv2d_1 (Conv2D)            (None, 28, 28, 16)        416       \n",
      "_________________________________________________________________\n",
      "conv2d_2 (Conv2D)            (None, 28, 28, 36)        14436     \n",
      "_________________________________________________________________\n",
      "max_pooling2d_1 (MaxPooling2 (None, 14, 14, 36)        0         \n",
      "_________________________________________________________________\n",
      "dropout_1 (Dropout)          (None, 14, 14, 36)        0         \n",
      "_________________________________________________________________\n",
      "flatten_1 (Flatten)          (None, 7056)              0         \n",
      "_________________________________________________________________\n",
      "dense_1 (Dense)              (None, 128)               903296    \n",
      "_________________________________________________________________\n",
      "dropout_2 (Dropout)          (None, 128)               0         \n",
      "_________________________________________________________________\n",
      "dense_2 (Dense)              (None, 10)                1290      \n",
      "=================================================================\n",
      "Total params: 919,438\n",
      "Trainable params: 919,438\n",
      "Non-trainable params: 0\n",
      "_________________________________________________________________\n"
     ]
    }
   ],
   "source": [
    "model.summary()"
   ]
  },
  {
   "cell_type": "code",
   "execution_count": 34,
   "metadata": {},
   "outputs": [],
   "source": [
    "import matplotlib.pyplot as plt\n",
    "def show_train_history(train_history, train, validation):\n",
    "    plt.plot(train_history.history[train])\n",
    "    plt.plot(train_history.history[validation])\n",
    "    plt.title('Train_History')\n",
    "    plt.ylabel(train)\n",
    "    plt.xlabel('epochs')\n",
    "    plt.legend(['train','validation'],loc='best')\n",
    "    plt.show() "
   ]
  },
  {
   "cell_type": "code",
   "execution_count": 41,
   "metadata": {},
   "outputs": [
    {
     "data": {
      "image/png": "[encoded data removed]",
      "text/plain": [
       "<Figure size 432x288 with 1 Axes>"
      ]
     },
     "metadata": {
      "needs_background": "light"
     },
     "output_type": "display_data"
    }
   ],
   "source": [
    "show_train_history(train_history,'acc','val_acc')"
   ]
  },
  {
   "cell_type": "code",
   "execution_count": null,
   "metadata": {},
   "outputs": [],
   "source": []
  },
  {
   "cell_type": "code",
   "execution_count": null,
   "metadata": {},
   "outputs": [],
   "source": []
  }
 ],
 "metadata": {
  "kernelspec": {
   "display_name": "Python 3",
   "language": "python",
   "name": "python3"
  },
  "language_info": {
   "codemirror_mode": {
    "name": "ipython",
    "version": 3
   },
   "file_extension": ".py",
   "mimetype": "text/x-python",
   "name": "python",
   "nbconvert_exporter": "python",
   "pygments_lexer": "ipython3",
   "version": "3.6.8"
  }
 },
 "nbformat": 4,
 "nbformat_minor": 2
}
